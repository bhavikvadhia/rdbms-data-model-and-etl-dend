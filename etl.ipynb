{
 "cells": [
  {
   "cell_type": "markdown",
   "metadata": {
    "editable": true
   },
   "source": [
    "# ETL Processes\n",
    "Use this notebook to develop the ETL process for each of your tables before completing the `etl.py` file to load the whole datasets."
   ]
  },
  {
   "cell_type": "code",
   "execution_count": 1,
   "metadata": {
    "editable": true
   },
   "outputs": [],
   "source": [
    "import os\n",
    "import io\n",
    "import glob\n",
    "import psycopg2\n",
    "import datetime as dt\n",
    "import pandas as pd\n",
    "from sql_queries import *"
   ]
  },
  {
   "cell_type": "code",
   "execution_count": 2,
   "metadata": {
    "editable": true
   },
   "outputs": [],
   "source": [
    "conn = psycopg2.connect(\"host=127.0.0.1 dbname=sparkifydb user=student password=student\")\n",
    "cur = conn.cursor()\n",
    "conn.set_session(autocommit=True)"
   ]
  },
  {
   "cell_type": "code",
   "execution_count": 3,
   "metadata": {
    "editable": true
   },
   "outputs": [],
   "source": [
    "def get_files(filepath):\n",
    "    all_files = []\n",
    "    for root, dirs, files in os.walk(filepath):\n",
    "        files = glob.glob(os.path.join(root,'*.json'))\n",
    "        for f in files :\n",
    "            all_files.append(os.path.abspath(f))\n",
    "    \n",
    "    return all_files"
   ]
  },
  {
   "cell_type": "markdown",
   "metadata": {
    "editable": true
   },
   "source": [
    "# Process `song_data`\n",
    "In this first part, you'll perform ETL on the first dataset, `song_data`, to create the `songs` and `artists` dimensional tables.\n",
    "\n",
    "Let's perform ETL on a single song file and load a single record into each table to start.\n",
    "- Use the `get_files` function provided above to get a list of all song JSON files in `data/song_data`\n",
    "- Select the first song in this list\n",
    "- Read the song file and view the data"
   ]
  },
  {
   "cell_type": "code",
   "execution_count": 4,
   "metadata": {
    "editable": true
   },
   "outputs": [],
   "source": [
    "song_files = get_files(\"data/song_data\")"
   ]
  },
  {
   "cell_type": "code",
   "execution_count": 6,
   "metadata": {
    "editable": true
   },
   "outputs": [],
   "source": [
    "filepath = song_files\n",
    "all_files = []\n",
    "for rec in filepath:\n",
    "    if 'checkpoint' not in rec:\n",
    "        all_files.append(rec)\n",
    "\n",
    "#print(all_files)"
   ]
  },
  {
   "cell_type": "code",
   "execution_count": 7,
   "metadata": {
    "editable": true
   },
   "outputs": [],
   "source": [
    "df = pd.DataFrame()\n",
    "for rec in all_files:\n",
    "    df1 = pd.DataFrame(pd.read_json(rec,typ=\"Series\")).transpose()\n",
    "    #print('file - {}, song_id - {}'.format(rec,df1['song_id']))\n",
    "    df = df.append(df1)\n"
   ]
  },
  {
   "cell_type": "markdown",
   "metadata": {
    "editable": true
   },
   "source": [
    "## #1: `songs` Table\n",
    "#### Extract Data for Songs Table\n",
    "- Select columns for song ID, title, artist ID, year, and duration\n",
    "- Use `df.values` to select just the values from the dataframe\n",
    "- Index to select the first (only) record in the dataframe\n",
    "- Convert the array to a list and set it to `song_data`"
   ]
  },
  {
   "cell_type": "code",
   "execution_count": 8,
   "metadata": {
    "editable": true
   },
   "outputs": [],
   "source": [
    "\n",
    "#df['year'].replace({0:None}, inplace=True)\n",
    "df['year'] = df['year'].where(df['year'] != 0 ,None)\n",
    "song_data = df[['song_id','title','artist_id','year','duration']].values.tolist()\n",
    "#Profile data to check if there are duplicates\n",
    "#df.groupby(['song_id'])['duration'].unique().groupby(['song_id']).count().sum() --check for other fields as well\n",
    "#df.groupby(['song_id']).sum()\n",
    "#df[df['song_id'] == 'SOBAYLL12A8C138AF9']\n",
    "#SOFCHDR12AB01866EF\n",
    "#df['year'].replace({0:None})\n"
   ]
  },
  {
   "cell_type": "markdown",
   "metadata": {
    "editable": true
   },
   "source": [
    "#### Insert Record into Song Table\n",
    "Implement the `song_table_insert` query in `sql_queries.py` and run the cell below to insert a record for this song into the `songs` table. Remember to run `create_tables.py` before running the cell below to ensure you've created/resetted the `songs` table in the sparkify database."
   ]
  },
  {
   "cell_type": "code",
   "execution_count": 9,
   "metadata": {
    "editable": true
   },
   "outputs": [
    {
     "name": "stdout",
     "output_type": "stream",
     "text": [
      "<class 'int'>\n",
      "(71,)\n"
     ]
    }
   ],
   "source": [
    "for rec in song_data:\n",
    "    cur.execute(song_table_insert, rec)\n",
    "    \n",
    "cur.execute(\"select count(*) from songs\")\n",
    "row = cur.fetchone()\n",
    "print(type(row[0]))\n",
    "\n",
    "#song_data.to_sql('song_data',)\n",
    "\n",
    "while row:\n",
    "    print(row)\n",
    "    row = cur.fetchone()"
   ]
  },
  {
   "cell_type": "markdown",
   "metadata": {
    "editable": true
   },
   "source": [
    "Run `test.ipynb` to see if you've successfully added a record to this table."
   ]
  },
  {
   "cell_type": "markdown",
   "metadata": {
    "editable": true
   },
   "source": [
    "## #2: `artists` Table\n",
    "#### Extract Data for Artists Table\n",
    "- Select columns for artist ID, name, location, latitude, and longitude\n",
    "- Use `df.values` to select just the values from the dataframe\n",
    "- Index to select the first (only) record in the dataframe\n",
    "df- Convert the array to a list and set it to `artist_data`"
   ]
  },
  {
   "cell_type": "code",
   "execution_count": 10,
   "metadata": {
    "editable": true
   },
   "outputs": [
    {
     "data": {
      "text/plain": [
       "count                  43\n",
       "unique                 40\n",
       "top       California - LA\n",
       "freq                    2\n",
       "Name: artist_location, dtype: object"
      ]
     },
     "execution_count": 10,
     "metadata": {},
     "output_type": "execute_result"
    }
   ],
   "source": [
    "df['artist_location'] = df['artist_location'].where(df['artist_location'] != '',None)\n",
    "artist_data = df[['artist_id','artist_name','artist_location','artist_latitude','artist_longitude']].values.tolist()\n",
    "df['artist_location'].describe()\n",
    "#for rec in artist_data:\n",
    "#    if rec[0] == 'ARNNKDK1187B98BBD5':\n",
    "#        print(str(rec[4]))\n",
    "#df.groupby('artist_id').sum()\n",
    "#df[df['artist_id'] == 'ARD7TVE1187B99BFB1']\n",
    "#df.groupby('artist_id')['artist_longitude'].unique().count()"
   ]
  },
  {
   "cell_type": "markdown",
   "metadata": {
    "editable": true
   },
   "source": [
    "#### Insert Record into Artist Table\n",
    "Implement the `artist_table_insert` query in `sql_queries.py` and run the cell below to insert a record for this song's artist into the `artists` table. Remember to run `create_tables.py` before running the cell below to ensure you've created/resetted the `artists` table in the sparkify database."
   ]
  },
  {
   "cell_type": "code",
   "execution_count": 11,
   "metadata": {
    "editable": true
   },
   "outputs": [
    {
     "name": "stdout",
     "output_type": "stream",
     "text": [
      "(69,)\n"
     ]
    }
   ],
   "source": [
    "for rec in artist_data:\n",
    "    cur.execute(artist_table_insert, rec)\n",
    "\n",
    "cur.execute(\"select count(*) from artists\")\n",
    "row = cur.fetchone()\n",
    "while row:\n",
    "    print(row)\n",
    "    row = cur.fetchone()"
   ]
  },
  {
   "cell_type": "markdown",
   "metadata": {
    "editable": true
   },
   "source": [
    "Run `test.ipynb` to see if you've successfully added a record to this table."
   ]
  },
  {
   "cell_type": "markdown",
   "metadata": {
    "editable": true
   },
   "source": [
    "# Process `log_data`\n",
    "In this part, you'll perform ETL on the second dataset, `log_data`, to create the `time` and `users` dimensional tables, as well as the `songplays` fact table.\n",
    "\n",
    "Let's perform ETL on a single log file and load a single record into each table.\n",
    "- Use the `get_files` function provided above to get a list of all log JSON files in `data/log_data`\n",
    "- Select the first log file in this list\n",
    "- Read the log file and view the data"
   ]
  },
  {
   "cell_type": "code",
   "execution_count": 12,
   "metadata": {
    "editable": true
   },
   "outputs": [],
   "source": [
    "log_files = get_files(\"data/log_data\")"
   ]
  },
  {
   "cell_type": "code",
   "execution_count": 13,
   "metadata": {
    "editable": true
   },
   "outputs": [
    {
     "name": "stdout",
     "output_type": "stream",
     "text": [
      "['/home/workspace/data/log_data/2018/11/2018-11-01-events.json', '/home/workspace/data/log_data/2018/11/2018-11-02-events.json', '/home/workspace/data/log_data/2018/11/2018-11-03-events.json', '/home/workspace/data/log_data/2018/11/2018-11-04-events.json', '/home/workspace/data/log_data/2018/11/2018-11-05-events.json', '/home/workspace/data/log_data/2018/11/2018-11-06-events.json', '/home/workspace/data/log_data/2018/11/2018-11-07-events.json', '/home/workspace/data/log_data/2018/11/2018-11-08-events.json', '/home/workspace/data/log_data/2018/11/2018-11-09-events.json', '/home/workspace/data/log_data/2018/11/2018-11-10-events.json', '/home/workspace/data/log_data/2018/11/2018-11-11-events.json', '/home/workspace/data/log_data/2018/11/2018-11-12-events.json', '/home/workspace/data/log_data/2018/11/2018-11-13-events.json', '/home/workspace/data/log_data/2018/11/2018-11-14-events.json', '/home/workspace/data/log_data/2018/11/2018-11-15-events.json', '/home/workspace/data/log_data/2018/11/2018-11-16-events.json', '/home/workspace/data/log_data/2018/11/2018-11-17-events.json', '/home/workspace/data/log_data/2018/11/2018-11-18-events.json', '/home/workspace/data/log_data/2018/11/2018-11-19-events.json', '/home/workspace/data/log_data/2018/11/2018-11-20-events.json', '/home/workspace/data/log_data/2018/11/2018-11-21-events.json', '/home/workspace/data/log_data/2018/11/2018-11-22-events.json', '/home/workspace/data/log_data/2018/11/2018-11-23-events.json', '/home/workspace/data/log_data/2018/11/2018-11-24-events.json', '/home/workspace/data/log_data/2018/11/2018-11-25-events.json', '/home/workspace/data/log_data/2018/11/2018-11-26-events.json', '/home/workspace/data/log_data/2018/11/2018-11-27-events.json', '/home/workspace/data/log_data/2018/11/2018-11-28-events.json', '/home/workspace/data/log_data/2018/11/2018-11-29-events.json', '/home/workspace/data/log_data/2018/11/2018-11-30-events.json']\n"
     ]
    }
   ],
   "source": [
    "filepath= []\n",
    "for rec in log_files:\n",
    "    if 'checkpoint' not in rec:\n",
    "        filepath.append(rec)\n",
    "\n",
    "filepath.sort()\n",
    "print(filepath)\n",
    "    "
   ]
  },
  {
   "cell_type": "code",
   "execution_count": 14,
   "metadata": {
    "editable": true
   },
   "outputs": [
    {
     "name": "stdout",
     "output_type": "stream",
     "text": [
      "30\n",
      "['/home/workspace/data/log_data/2018/11/2018-11-01-events.json', '/home/workspace/data/log_data/2018/11/2018-11-02-events.json', '/home/workspace/data/log_data/2018/11/2018-11-03-events.json', '/home/workspace/data/log_data/2018/11/2018-11-04-events.json', '/home/workspace/data/log_data/2018/11/2018-11-05-events.json', '/home/workspace/data/log_data/2018/11/2018-11-06-events.json', '/home/workspace/data/log_data/2018/11/2018-11-07-events.json', '/home/workspace/data/log_data/2018/11/2018-11-08-events.json', '/home/workspace/data/log_data/2018/11/2018-11-09-events.json', '/home/workspace/data/log_data/2018/11/2018-11-10-events.json', '/home/workspace/data/log_data/2018/11/2018-11-11-events.json', '/home/workspace/data/log_data/2018/11/2018-11-12-events.json', '/home/workspace/data/log_data/2018/11/2018-11-13-events.json', '/home/workspace/data/log_data/2018/11/2018-11-14-events.json', '/home/workspace/data/log_data/2018/11/2018-11-15-events.json', '/home/workspace/data/log_data/2018/11/2018-11-16-events.json', '/home/workspace/data/log_data/2018/11/2018-11-17-events.json', '/home/workspace/data/log_data/2018/11/2018-11-18-events.json', '/home/workspace/data/log_data/2018/11/2018-11-19-events.json', '/home/workspace/data/log_data/2018/11/2018-11-20-events.json', '/home/workspace/data/log_data/2018/11/2018-11-21-events.json', '/home/workspace/data/log_data/2018/11/2018-11-22-events.json', '/home/workspace/data/log_data/2018/11/2018-11-23-events.json', '/home/workspace/data/log_data/2018/11/2018-11-24-events.json', '/home/workspace/data/log_data/2018/11/2018-11-25-events.json', '/home/workspace/data/log_data/2018/11/2018-11-26-events.json', '/home/workspace/data/log_data/2018/11/2018-11-27-events.json', '/home/workspace/data/log_data/2018/11/2018-11-28-events.json', '/home/workspace/data/log_data/2018/11/2018-11-29-events.json', '/home/workspace/data/log_data/2018/11/2018-11-30-events.json']\n"
     ]
    }
   ],
   "source": [
    "df = pd.DataFrame()\n",
    "print(len(filepath))\n",
    "print(filepath)\n",
    "for rec in filepath:\n",
    "    df1 = pd.read_json(rec,lines=True)\n",
    "    df1['filenm'] = str(rec)\n",
    "    df = df.append(df1)\n",
    "\n",
    "#df.loc[[0]]"
   ]
  },
  {
   "cell_type": "markdown",
   "metadata": {
    "editable": true
   },
   "source": [
    "## #3: `time` Table\n",
    "#### Extract Data for Time Table\n",
    "- Filter records by `NextSong` action\n",
    "- Convert the `ts` timestamp column to datetime\n",
    "  - Hint: the current timestamp is in milliseconds\n",
    "- Extract the timestamp, hour, day, week of year, month, year, and weekday from the `ts` column and set `time_data` to a list containing these values in order\n",
    "  - Hint: use pandas' [`dt` attribute](https://pandas.pydata.org/pandas-docs/stable/reference/api/pandas.Series.dt.html) to access easily datetimelike properties.\n",
    "- Specify labels for these columns and set to `column_labels`\n",
    "- Create a dataframe, `time_df,` containing the time data for this file by combining `column_labels` and `time_data` into a dictionary and converting this into a dataframe"
   ]
  },
  {
   "cell_type": "code",
   "execution_count": 15,
   "metadata": {
    "editable": true
   },
   "outputs": [
    {
     "data": {
      "text/plain": [
       "6820"
      ]
     },
     "execution_count": 15,
     "metadata": {},
     "output_type": "execute_result"
    }
   ],
   "source": [
    "df = df.loc[df['page']=='NextSong']\n",
    "df['filenm'].count()"
   ]
  },
  {
   "cell_type": "code",
   "execution_count": 16,
   "metadata": {
    "editable": true
   },
   "outputs": [
    {
     "data": {
      "text/plain": [
       "2   2018-11-01 21:01:46.796\n",
       "Name: ts, dtype: datetime64[ns]"
      ]
     },
     "execution_count": 16,
     "metadata": {},
     "output_type": "execute_result"
    }
   ],
   "source": [
    "t = df['ts'].transform(lambda x:(dt.datetime.fromtimestamp(x/1000)))\n",
    "t.head(1)"
   ]
  },
  {
   "cell_type": "code",
   "execution_count": 17,
   "metadata": {
    "editable": true
   },
   "outputs": [],
   "source": [
    "time_data = (t,t.dt.hour,t.dt.day,t.dt.weekofyear,t.dt.month,t.dt.year,t.dt.weekday)\n",
    "column_labels = ('strt_tm','hour','day','weekofyear','month','year','weekday')"
   ]
  },
  {
   "cell_type": "code",
   "execution_count": 18,
   "metadata": {
    "editable": true
   },
   "outputs": [
    {
     "name": "stdout",
     "output_type": "stream",
     "text": [
      "strt_tm       6820\n",
      "hour          6820\n",
      "day           6820\n",
      "weekofyear    6820\n",
      "month         6820\n",
      "year          6820\n",
      "weekday       6820\n",
      "dtype: int64\n",
      "strt_tm       6813\n",
      "hour          6813\n",
      "day           6813\n",
      "weekofyear    6813\n",
      "month         6813\n",
      "year          6813\n",
      "weekday       6813\n",
      "dtype: int64\n"
     ]
    }
   ],
   "source": [
    "time_df = pd.DataFrame(dict(zip(column_labels,time_data)))\n",
    "print(time_df.count())\n",
    "time_df.drop_duplicates(keep='first',inplace=True)\n",
    "print(time_df.count())\n",
    "\n",
    "op = io.StringIO()\n",
    "time_df.to_csv(op,sep = '\\t', header = False, index = False)\n",
    "op.seek(0)\n",
    "contents = op.getvalue()\n",
    "#cur.copy_from(op, 'time')\n",
    "conn.commit()\n",
    "cur.execute('select * from time')"
   ]
  },
  {
   "cell_type": "markdown",
   "metadata": {
    "editable": true
   },
   "source": [
    "#### Insert Records into Time Table\n",
    "Implement the `time_table_insert` query in `sql_queries.py` and run the cell below to insert records for the timestamps in this log file into the `time` table. Remember to run `create_tables.py` before running the cell below to ensure you've created/resetted the `time` table in the sparkify database."
   ]
  },
  {
   "cell_type": "code",
   "execution_count": 19,
   "metadata": {
    "editable": true
   },
   "outputs": [
    {
     "name": "stdout",
     "output_type": "stream",
     "text": [
      "(6813,)\n"
     ]
    }
   ],
   "source": [
    "for i, row in time_df.iterrows():\n",
    "    cur.execute(time_table_insert, list(row))\n",
    "    \n",
    "cur.execute(\"select count(*) from time\")\n",
    "row = cur.fetchone()\n",
    "while row:\n",
    "    print(row)\n",
    "    row = cur.fetchone()"
   ]
  },
  {
   "cell_type": "markdown",
   "metadata": {
    "editable": true
   },
   "source": [
    "Run `test.ipynb` to see if you've successfully added records to this table."
   ]
  },
  {
   "cell_type": "markdown",
   "metadata": {
    "editable": true
   },
   "source": [
    "## #4: `users` Table\n",
    "#### Extract Data for Users Table\n",
    "- Select columns for user ID, first name, last name, gender and level and set to `user_df`"
   ]
  },
  {
   "cell_type": "code",
   "execution_count": 21,
   "metadata": {
    "editable": true
   },
   "outputs": [
    {
     "name": "stdout",
     "output_type": "stream",
     "text": [
      "userId       6820\n",
      "firstName    6820\n",
      "lastName     6820\n",
      "gender       6820\n",
      "level        6820\n",
      "dtype: int64\n",
      "None\n",
      "    userId firstName lastName gender level\n",
      "148     80     Tegan   Levine      F  free\n",
      "40      80     Tegan   Levine      F  paid\n",
      "        firstName  lastName  gender  level\n",
      "userId                                    \n",
      "3               1         1       1      1\n",
      "6               1         1       1      1\n",
      "7               1         1       1      1\n",
      "8               1         1       1      1\n",
      "10              1         1       1      1\n",
      "14              1         1       1      1\n",
      "15              1         1       1      1\n",
      "16              1         1       1      1\n",
      "17              1         1       1      1\n",
      "18              1         1       1      1\n",
      "26              1         1       1      1\n",
      "35              1         1       1      1\n",
      "36              1         1       1      1\n",
      "37              1         1       1      1\n",
      "44              1         1       1      1\n",
      "48              1         1       1      1\n",
      "49              1         1       1      1\n",
      "50              1         1       1      1\n",
      "52              1         1       1      1\n",
      "54              1         1       1      1\n",
      "61              1         1       1      1\n",
      "66              1         1       1      1\n",
      "69              1         1       1      1\n",
      "71              1         1       1      1\n",
      "74              1         1       1      1\n",
      "75              1         1       1      1\n",
      "80              1         1       1      1\n",
      "83              1         1       1      1\n",
      "86              1         1       1      1\n",
      "88              1         1       1      1\n",
      "...           ...       ...     ...    ...\n",
      "71              1         1       1      1\n",
      "72              1         1       1      1\n",
      "73              1         1       1      1\n",
      "74              1         1       1      1\n",
      "75              1         1       1      1\n",
      "76              1         1       1      1\n",
      "77              1         1       1      1\n",
      "78              1         1       1      1\n",
      "79              1         1       1      1\n",
      "8               1         1       1      1\n",
      "80              2         2       2      2\n",
      "81              1         1       1      1\n",
      "82              1         1       1      1\n",
      "83              1         1       1      1\n",
      "84              1         1       1      1\n",
      "85              2         2       2      2\n",
      "86              1         1       1      1\n",
      "87              1         1       1      1\n",
      "88              2         2       2      2\n",
      "89              1         1       1      1\n",
      "9               1         1       1      1\n",
      "90              1         1       1      1\n",
      "91              1         1       1      1\n",
      "92              1         1       1      1\n",
      "94              1         1       1      1\n",
      "95              1         1       1      1\n",
      "96              1         1       1      1\n",
      "97              1         1       1      1\n",
      "98              1         1       1      1\n",
      "99              1         1       1      1\n",
      "\n",
      "[129 rows x 4 columns]\n",
      "    userId firstName   lastName gender level\n",
      "2        8    Kaylee    Summers      F  free\n",
      "10      10    Sylvie       Cruz      F  free\n",
      "12      26      Ryan      Smith      M  free\n",
      "14     101    Jayden        Fox      M  free\n",
      "2       83   Stefany      White      F  free\n",
      "4       66     Kevin   Arellano      M  free\n",
      "5       48    Marina     Sutton      F  free\n",
      "7       86     Aiden       Hess      M  free\n",
      "8       17  Makinley      Jones      F  free\n",
      "10      15      Lily       Koch      F  paid\n",
      "15      89   Kynnedi    Sanchez      F  free\n",
      "50      80     Tegan     Levine      F  free\n",
      "52      44    Aleena      Kirby      F  paid\n",
      "56      88  Mohammad  Rodriguez      M  free\n",
      "76      49     Chloe     Cuevas      F  free\n",
      "103    100     Adler    Barrera      M  free\n",
      "126     61    Samuel   Gonzalez      M  free\n",
      "138     75    Joseph  Gutierrez      M  free\n",
      "146     50       Ava   Robinson      F  free\n",
      "163     71    Ayleen       Wise      F  free\n",
      "167     54     Kaleb       Cook      M  free\n",
      "168      3     Isaac     Valdez      M  free\n",
      "2       53   Celeste   Williams      F  free\n",
      "7       69  Anabelle    Simpson      F  free\n",
      "8       62    Connar     Moreno      M  free\n",
      "9      101    Jayden        Fox      M  free\n",
      "10      95      Sara    Johnson      F  paid\n",
      "27      10    Sylvie       Cruz      F  free\n",
      "29      15      Lily       Koch      F  paid\n",
      "104     63      Ayla    Johnson      F  free\n",
      "..     ...       ...        ...    ...   ...\n",
      "91      14  Theodore     Harris      M  free\n",
      "95      35     Molly     Taylor      F  free\n",
      "30      96    Cierra     Finley      F  free\n",
      "12      68    Jordan  Rodriguez      F  free\n",
      "24      58     Emily     Benson      F  paid\n",
      "98      76    Jayden      Duffy      F  free\n",
      "35       4    Alivia    Terrell      F  free\n",
      "84      59      Lily     Cooper      F  free\n",
      "103     16     Rylan     George      M  paid\n",
      "179     49     Chloe     Cuevas      F  paid\n",
      "201     90    Andrea     Butler      F  free\n",
      "121     70    Jaleah      Hayes      F  paid\n",
      "2       40    Tucker   Garrison      M  free\n",
      "5       79     James     Martin      M  free\n",
      "188     17  Makinley      Jones      F  free\n",
      "195     41   Brayden      Clark      M  free\n",
      "200     45  Dominick     Norris      M  free\n",
      "261     88  Mohammad  Rodriguez      M  paid\n",
      "293     71    Ayleen       Wise      F  free\n",
      "89      65     Amiya   Davidson      F  paid\n",
      "270     15      Lily       Koch      F  free\n",
      "346     19   Zachary     Thomas      M  free\n",
      "42      56    Cienna    Freeman      F  free\n",
      "51      98    Jordyn     Powell      F  free\n",
      "9       87    Dustin        Lee      M  free\n",
      "3       38    Gianna      Jones      F  free\n",
      "35       5    Elijah      Davis      M  free\n",
      "63      82     Avery   Martinez      F  paid\n",
      "376     39    Walter       Frye      M  free\n",
      "346     22      Sean     Wilson      F  free\n",
      "\n",
      "[137 rows x 5 columns]\n"
     ]
    }
   ],
   "source": [
    "\n",
    "df.sort_values(['ts'], inplace = True)\n",
    "user_df = pd.DataFrame(df[['userId','firstName','lastName','gender','level']])\n",
    "\n",
    "\n",
    "print(user_df.count())\n",
    "print(user_df.drop_duplicates(keep='first',inplace=True))\n",
    "print(user_df[user_df['userId']== '80'])\n",
    "print(user_df.groupby('userId').count())\n",
    "print(user_df)\n",
    "#data profile\n",
    "#df[df['userId'] == '3']\n",
    "#df[df['userId'] == '49']\n",
    "#df[df['ts'] == 1543418559796]['level']\n",
    "#user_df.groupby(['userId']).count()\n",
    "#user_df.groupby(['userId'])['level'].unique().groupby(['userId']).count()\n",
    "\n"
   ]
  },
  {
   "cell_type": "markdown",
   "metadata": {
    "editable": true
   },
   "source": [
    "#### Insert Records into Users Table\n",
    "Implement the `user_table_insert` query in `sql_queries.py` and run the cell below to insert records for the users in this log file into the `users` table. Remember to run `create_tables.py` before running the cell below to ensure you've created/resetted the `users` table in the sparkify database."
   ]
  },
  {
   "cell_type": "code",
   "execution_count": null,
   "metadata": {
    "editable": true
   },
   "outputs": [],
   "source": [
    "for i, row in user_df.iterrows():\n",
    "    if row['userId'] == '80':\n",
    "        print(row)\n",
    "    cur.execute(user_table_insert, row)\n",
    "    \n",
    "#cur.copy_from(user_df,'users')\n",
    "\n",
    "cur.execute(\"select * from users where user_id = 80\")\n",
    "row = cur.fetchone()\n",
    "while row:\n",
    "    print(row)\n",
    "    row = cur.fetchone()"
   ]
  },
  {
   "cell_type": "markdown",
   "metadata": {
    "editable": true
   },
   "source": [
    "Run `test.ipynb` to see if you've successfully added records to this table."
   ]
  },
  {
   "cell_type": "markdown",
   "metadata": {
    "editable": true
   },
   "source": [
    "## #5: `songplays` Table\n",
    "#### Extract Data and Songplays Table\n",
    "This one is a little more complicated since information from the songs table, artists table, and original log file are all needed for the `songplays` table. Since the log file does not specify an ID for either the song or the artist, you'll need to get the song ID and artist ID by querying the songs and artists tables to find matches based on song title, artist name, and song duration time.\n",
    "- Implement the `song_select` query in `sql_queries.py` to find the song ID and artist ID based on the title, artist name, and duration of a song.\n",
    "- Select the timestamp, user ID, level, song ID, artist ID, session ID, location, and user agent and set to `songplay_data`\n",
    "\n",
    "#### Insert Records into Songplays Table\n",
    "- Implement the `songplay_table_insert` query and run the cell below to insert records for the songplay actions in this log file into the `songplays` table. Remember to run `create_tables.py` before running the cell below to ensure you've created/resetted the `songplays` table in the sparkify database."
   ]
  },
  {
   "cell_type": "code",
   "execution_count": null,
   "metadata": {
    "editable": true
   },
   "outputs": [],
   "source": [
    "cur.execute('delete from songplays')\n",
    "conn.commit()\n",
    "\n",
    "chk = pd.DataFrame(df[['song','artist','length','ts','userId','sessionId','level','location','userAgent']])\n",
    "\n",
    "\n",
    "print(chk.count())\n",
    "chk.drop_duplicates(keep=False,inplace=True)\n",
    "print(chk.count())\n",
    "\n",
    "for index, row in df.iterrows():\n",
    "    # get songid and artistid from song and artist tables\n",
    "    cur.execute(song_select, (row.song, row.artist, row.length))\n",
    "    #print(row['song'])\n",
    "    results = cur.fetchone()\n",
    "    if results:\n",
    "        songid, artistid = results\n",
    "    else:\n",
    "        songid, artistid = None, None\n",
    "    #print(row['userAgent'].strip('\"'))\n",
    "    songplay_data = [dt.datetime.fromtimestamp(row['ts']/1000),row['userId'],row['level'],row['song'],row['artist'],row['sessionId'],row['location'],row['userAgent'].strip('\"')]\n",
    "    #print(songplay_data)\n",
    "    # insert songplay record\n",
    "    cur.execute(songplay_table_insert, songplay_data)\n",
    "\n",
    "conn.commit()\n"
   ]
  },
  {
   "cell_type": "markdown",
   "metadata": {
    "editable": true
   },
   "source": [
    "Run `test.ipynb` to see if you've successfully added records to this table."
   ]
  },
  {
   "cell_type": "markdown",
   "metadata": {
    "editable": true
   },
   "source": [
    "# Close Connection to Sparkify Database"
   ]
  },
  {
   "cell_type": "code",
   "execution_count": null,
   "metadata": {
    "editable": true
   },
   "outputs": [],
   "source": [
    "conn.close()"
   ]
  },
  {
   "cell_type": "markdown",
   "metadata": {
    "editable": true
   },
   "source": [
    "# Implement `etl.py`\n",
    "Use what you've completed in this notebook to implement `etl.py`."
   ]
  },
  {
   "cell_type": "code",
   "execution_count": null,
   "metadata": {
    "editable": true
   },
   "outputs": [],
   "source": []
  }
 ],
 "metadata": {
  "kernelspec": {
   "display_name": "Python 3",
   "language": "python",
   "name": "python3"
  },
  "language_info": {
   "codemirror_mode": {
    "name": "ipython",
    "version": 3
   },
   "file_extension": ".py",
   "mimetype": "text/x-python",
   "name": "python",
   "nbconvert_exporter": "python",
   "pygments_lexer": "ipython3",
   "version": "3.6.3"
  }
 },
 "nbformat": 4,
 "nbformat_minor": 4
}
